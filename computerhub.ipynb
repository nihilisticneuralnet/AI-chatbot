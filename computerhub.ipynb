{
 "cells": [
  {
   "cell_type": "code",
   "execution_count": 4,
   "id": "065e2e65",
   "metadata": {},
   "outputs": [
    {
     "name": "stdout",
     "output_type": "stream",
     "text": [
      "Looking in indexes: https://pypi.org/simple, https://pypi.ngc.nvidia.com\n",
      "Collecting PyPDF2\n",
      "  Downloading pypdf2-3.0.1-py3-none-any.whl.metadata (6.8 kB)\n",
      "Requirement already satisfied: typing_extensions>=3.10.0.0 in c:\\users\\acer\\anaconda3\\lib\\site-packages (from PyPDF2) (4.9.0)\n",
      "Downloading pypdf2-3.0.1-py3-none-any.whl (232 kB)\n",
      "   ---------------------------------------- 232.6/232.6 kB 2.0 MB/s eta 0:00:00\n",
      "Installing collected packages: PyPDF2\n",
      "Successfully installed PyPDF2-3.0.1\n",
      "Note: you may need to restart the kernel to use updated packages.\n"
     ]
    },
    {
     "name": "stderr",
     "output_type": "stream",
     "text": [
      "WARNING: Ignoring invalid distribution -rotobuf (c:\\users\\acer\\anaconda3\\lib\\site-packages)\n",
      "WARNING: Ignoring invalid distribution -rotobuf (c:\\users\\acer\\anaconda3\\lib\\site-packages)\n",
      "\n",
      "[notice] A new release of pip is available: 23.3.2 -> 24.1.2\n",
      "[notice] To update, run: python.exe -m pip install --upgrade pip\n"
     ]
    }
   ],
   "source": [
    "pip install PyPDF2\n"
   ]
  },
  {
   "cell_type": "code",
   "execution_count": 13,
   "id": "c62889e1",
   "metadata": {},
   "outputs": [],
   "source": [
    "try:\n",
    "    pdf=PdfReader('Corpus.pdf')\n",
    "    result=''\n",
    "    for i in range(len(pdf.pages)):\n",
    "        result+=pdf.pages[i].extract_text()\n",
    "except:\n",
    "    print('PDF file doesn\\'t exist')"
   ]
  },
  {
   "cell_type": "code",
   "execution_count": 14,
   "id": "f5fead96",
   "metadata": {},
   "outputs": [],
   "source": [
    "text_splitter = CharacterTextSplitter(\n",
    "        separator=\"\\n\",\n",
    "        chunk_size=1000,\n",
    "        chunk_overlap=200,\n",
    "        length_function=len\n",
    "      )\n",
    "      \n",
    "chunks = text_splitter.split_text(result)"
   ]
  },
  {
   "cell_type": "code",
   "execution_count": 21,
   "id": "978c4fcc",
   "metadata": {},
   "outputs": [],
   "source": [
    "hf_token='hf_token' #insert ur huggingface api key\n",
    "\n",
    "api_url= \"\"\"https://api-inference.huggingface.co/pipeline/feature-extraction/sentence-transformers/all-MiniLM-L6-v2\"\"\"\n",
    "\n",
    "headers = {\"Authorization\": f\"Bearer {hf_token}\"}\n",
    "    \n",
    "def query(texts):\n",
    "    response = requests.post(api_url, headers=headers, json={\"inputs\": texts, \"options\":{\"wait_for_model\":True}})\n",
    "    return response.json()\n",
    "\n",
    "user_question = 'Are dogs allowed at Jessup Cellars?'\n",
    "\n",
    "question = query([user_question])\n",
    "            \n",
    "query_embeddings = torch.FloatTensor(question)\n",
    "    \n",
    "output=query(chunks)\n",
    "    \n",
    "output=torch.from_numpy(np.array(output)).to(torch.float)"
   ]
  },
  {
   "cell_type": "code",
   "execution_count": 22,
   "id": "58153e66",
   "metadata": {},
   "outputs": [],
   "source": [
    "result=util.semantic_search(query_embeddings, output,top_k=2)\n",
    "\n",
    "final=[chunks[result[0][i]['corpus_id']] for i in range(len(result[0]))]"
   ]
  },
  {
   "cell_type": "code",
   "execution_count": 23,
   "id": "2ec1b57e",
   "metadata": {},
   "outputs": [
    {
     "name": "stdout",
     "output_type": "stream",
     "text": [
      "Yes, well-behaved dogs are allowed inside or on the outside patio at Jessup Cellars. Gluten-free dog treats and water dishes are available for dogs.\n"
     ]
    }
   ],
   "source": [
    "AI21_api_key ='api_key' #insert ur ai2i api key\n",
    "url = \"https://api.ai21.com/studio/v1/answer\"\n",
    "    \n",
    "payload = {\n",
    "                \"context\":' '.join(final),\n",
    "                \"question\":user_question\n",
    "          }\n",
    "  \n",
    "headers = {\n",
    "                \"accept\": \"application/json\",\n",
    "                \"content-type\": \"application/json\",\n",
    "                \"Authorization\": f\"Bearer {AI21_api_key}\"\n",
    "          }\n",
    "    \n",
    "response = requests.post(url, json=payload, headers=headers)\n",
    "    \n",
    "if response.json()['answerInContext']:\n",
    "     print(response.json()['answer'])\n",
    "else:\n",
    "     print('The answer is not found  in the document ⚠️, kindly contact the business directly')"
   ]
  },
  {
   "cell_type": "code",
   "execution_count": null,
   "id": "d37d70f6",
   "metadata": {},
   "outputs": [],
   "source": []
  }
 ],
 "metadata": {
  "kernelspec": {
   "display_name": "Python 3 (ipykernel)",
   "language": "python",
   "name": "python3"
  },
  "language_info": {
   "codemirror_mode": {
    "name": "ipython",
    "version": 3
   },
   "file_extension": ".py",
   "mimetype": "text/x-python",
   "name": "python",
   "nbconvert_exporter": "python",
   "pygments_lexer": "ipython3",
   "version": "3.9.12"
  }
 },
 "nbformat": 4,
 "nbformat_minor": 5
}
